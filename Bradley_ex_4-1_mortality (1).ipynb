{
 "cells": [
  {
   "cell_type": "markdown",
   "metadata": {},
   "source": [
    "# Chapter 4: The Seaborn essentials for data visualization"
   ]
  },
  {
   "cell_type": "code",
   "execution_count": 2,
   "metadata": {},
   "outputs": [],
   "source": [
    "import pandas as pd"
   ]
  },
  {
   "cell_type": "markdown",
   "metadata": {},
   "source": [
    "## Get the data"
   ]
  },
  {
   "cell_type": "code",
   "execution_count": 4,
   "metadata": {},
   "outputs": [
    {
     "ename": "FileNotFoundError",
     "evalue": "[Errno 2] No such file or directory: 'mortality_prepped.pkl'",
     "output_type": "error",
     "traceback": [
      "\u001b[0;31m---------------------------------------------------------------------------\u001b[0m",
      "\u001b[0;31mFileNotFoundError\u001b[0m                         Traceback (most recent call last)",
      "Cell \u001b[0;32mIn[4], line 1\u001b[0m\n\u001b[0;32m----> 1\u001b[0m mortality_data \u001b[38;5;241m=\u001b[39m \u001b[43mpd\u001b[49m\u001b[38;5;241;43m.\u001b[39;49m\u001b[43mread_pickle\u001b[49m\u001b[43m(\u001b[49m\u001b[38;5;124;43m'\u001b[39;49m\u001b[38;5;124;43mmortality_prepped.pkl\u001b[39;49m\u001b[38;5;124;43m'\u001b[39;49m\u001b[43m)\u001b[49m\n\u001b[1;32m      2\u001b[0m mortality_data\u001b[38;5;241m.\u001b[39mhead()\n",
      "File \u001b[0;32m/opt/conda/envs/anaconda-2024.02-py310/lib/python3.10/site-packages/pandas/io/pickle.py:189\u001b[0m, in \u001b[0;36mread_pickle\u001b[0;34m(filepath_or_buffer, compression, storage_options)\u001b[0m\n\u001b[1;32m    125\u001b[0m \u001b[38;5;250m\u001b[39m\u001b[38;5;124;03m\"\"\"\u001b[39;00m\n\u001b[1;32m    126\u001b[0m \u001b[38;5;124;03mLoad pickled pandas object (or any object) from file.\u001b[39;00m\n\u001b[1;32m    127\u001b[0m \n\u001b[0;32m   (...)\u001b[0m\n\u001b[1;32m    186\u001b[0m \u001b[38;5;124;03m4    4    9\u001b[39;00m\n\u001b[1;32m    187\u001b[0m \u001b[38;5;124;03m\"\"\"\u001b[39;00m\n\u001b[1;32m    188\u001b[0m excs_to_catch \u001b[38;5;241m=\u001b[39m (\u001b[38;5;167;01mAttributeError\u001b[39;00m, \u001b[38;5;167;01mImportError\u001b[39;00m, \u001b[38;5;167;01mModuleNotFoundError\u001b[39;00m, \u001b[38;5;167;01mTypeError\u001b[39;00m)\n\u001b[0;32m--> 189\u001b[0m \u001b[38;5;28;01mwith\u001b[39;00m \u001b[43mget_handle\u001b[49m\u001b[43m(\u001b[49m\n\u001b[1;32m    190\u001b[0m \u001b[43m    \u001b[49m\u001b[43mfilepath_or_buffer\u001b[49m\u001b[43m,\u001b[49m\n\u001b[1;32m    191\u001b[0m \u001b[43m    \u001b[49m\u001b[38;5;124;43m\"\u001b[39;49m\u001b[38;5;124;43mrb\u001b[39;49m\u001b[38;5;124;43m\"\u001b[39;49m\u001b[43m,\u001b[49m\n\u001b[1;32m    192\u001b[0m \u001b[43m    \u001b[49m\u001b[43mcompression\u001b[49m\u001b[38;5;241;43m=\u001b[39;49m\u001b[43mcompression\u001b[49m\u001b[43m,\u001b[49m\n\u001b[1;32m    193\u001b[0m \u001b[43m    \u001b[49m\u001b[43mis_text\u001b[49m\u001b[38;5;241;43m=\u001b[39;49m\u001b[38;5;28;43;01mFalse\u001b[39;49;00m\u001b[43m,\u001b[49m\n\u001b[1;32m    194\u001b[0m \u001b[43m    \u001b[49m\u001b[43mstorage_options\u001b[49m\u001b[38;5;241;43m=\u001b[39;49m\u001b[43mstorage_options\u001b[49m\u001b[43m,\u001b[49m\n\u001b[1;32m    195\u001b[0m \u001b[43m\u001b[49m\u001b[43m)\u001b[49m \u001b[38;5;28;01mas\u001b[39;00m handles:\n\u001b[1;32m    196\u001b[0m     \u001b[38;5;66;03m# 1) try standard library Pickle\u001b[39;00m\n\u001b[1;32m    197\u001b[0m     \u001b[38;5;66;03m# 2) try pickle_compat (older pandas version) to handle subclass changes\u001b[39;00m\n\u001b[1;32m    198\u001b[0m     \u001b[38;5;66;03m# 3) try pickle_compat with latin-1 encoding upon a UnicodeDecodeError\u001b[39;00m\n\u001b[1;32m    200\u001b[0m     \u001b[38;5;28;01mtry\u001b[39;00m:\n\u001b[1;32m    201\u001b[0m         \u001b[38;5;66;03m# TypeError for Cython complaints about object.__new__ vs Tick.__new__\u001b[39;00m\n\u001b[1;32m    202\u001b[0m         \u001b[38;5;28;01mtry\u001b[39;00m:\n",
      "File \u001b[0;32m/opt/conda/envs/anaconda-2024.02-py310/lib/python3.10/site-packages/pandas/io/common.py:872\u001b[0m, in \u001b[0;36mget_handle\u001b[0;34m(path_or_buf, mode, encoding, compression, memory_map, is_text, errors, storage_options)\u001b[0m\n\u001b[1;32m    863\u001b[0m         handle \u001b[38;5;241m=\u001b[39m \u001b[38;5;28mopen\u001b[39m(\n\u001b[1;32m    864\u001b[0m             handle,\n\u001b[1;32m    865\u001b[0m             ioargs\u001b[38;5;241m.\u001b[39mmode,\n\u001b[0;32m   (...)\u001b[0m\n\u001b[1;32m    868\u001b[0m             newline\u001b[38;5;241m=\u001b[39m\u001b[38;5;124m\"\u001b[39m\u001b[38;5;124m\"\u001b[39m,\n\u001b[1;32m    869\u001b[0m         )\n\u001b[1;32m    870\u001b[0m     \u001b[38;5;28;01melse\u001b[39;00m:\n\u001b[1;32m    871\u001b[0m         \u001b[38;5;66;03m# Binary mode\u001b[39;00m\n\u001b[0;32m--> 872\u001b[0m         handle \u001b[38;5;241m=\u001b[39m \u001b[38;5;28;43mopen\u001b[39;49m\u001b[43m(\u001b[49m\u001b[43mhandle\u001b[49m\u001b[43m,\u001b[49m\u001b[43m \u001b[49m\u001b[43mioargs\u001b[49m\u001b[38;5;241;43m.\u001b[39;49m\u001b[43mmode\u001b[49m\u001b[43m)\u001b[49m\n\u001b[1;32m    873\u001b[0m     handles\u001b[38;5;241m.\u001b[39mappend(handle)\n\u001b[1;32m    875\u001b[0m \u001b[38;5;66;03m# Convert BytesIO or file objects passed with an encoding\u001b[39;00m\n",
      "\u001b[0;31mFileNotFoundError\u001b[0m: [Errno 2] No such file or directory: 'mortality_prepped.pkl'"
     ]
    }
   ],
   "source": [
    "mortality_data = pd.read_pickle('mortality_prepped.pkl')\n",
    "mortality_data.head()"
   ]
  },
  {
   "cell_type": "markdown",
   "metadata": {},
   "source": [
    "## The basic Seaborn parameters"
   ]
  },
  {
   "cell_type": "code",
   "execution_count": null,
   "metadata": {},
   "outputs": [],
   "source": [
    "import seaborn as sns"
   ]
  },
  {
   "cell_type": "code",
   "execution_count": null,
   "metadata": {},
   "outputs": [],
   "source": [
    "sns.relplot(data=mortality_data, kind='line',\n",
    "            x='Year', y='DeathRate', hue='AgeGroup')"
   ]
  },
  {
   "cell_type": "code",
   "execution_count": null,
   "metadata": {},
   "outputs": [],
   "source": [
    "sns.lineplot(data=mortality_data, \n",
    "             x='Year', y='DeathRate', hue='AgeGroup')"
   ]
  },
  {
   "cell_type": "code",
   "execution_count": null,
   "metadata": {},
   "outputs": [],
   "source": [
    "sns.relplot(data=mortality_data, kind='line', \n",
    "            x='Year', y='DeathRate', hue='AgeGroup', palette='bright',\n",
    "            height=4, aspect=2)"
   ]
  },
  {
   "cell_type": "code",
   "execution_count": null,
   "metadata": {},
   "outputs": [],
   "source": [
    "sns.relplot(data=mortality_data, \n",
    "            kind='line', x='Year', y='DeathRate', hue='AgeGroup', \n",
    "            height=4, aspect=1.25, \n",
    "            col='AgeGroup', col_wrap=2, legend=False)"
   ]
  },
  {
   "cell_type": "markdown",
   "metadata": {},
   "source": [
    "## Enhancing plots"
   ]
  },
  {
   "cell_type": "code",
   "execution_count": null,
   "metadata": {},
   "outputs": [],
   "source": [
    "ax = sns.lineplot(data=mortality_data, \n",
    "                  x='Year', y='DeathRate', hue='AgeGroup')\n",
    "ax.set(title='Deaths by Age Group', ylabel='Deaths per 100,000')"
   ]
  },
  {
   "cell_type": "code",
   "execution_count": null,
   "metadata": {},
   "outputs": [],
   "source": [
    "g = sns.relplot(data=mortality_data, kind='line',\n",
    "    x='Year', y='DeathRate', hue='AgeGroup', aspect=1.5)\n",
    "for ax in g.axes.flat:\n",
    "    ax.set(title='Deaths by Age Group', ylabel='Deaths per 100,000')"
   ]
  },
  {
   "cell_type": "code",
   "execution_count": null,
   "metadata": {},
   "outputs": [],
   "source": [
    "g = sns.relplot(data=mortality_data, kind='line',\n",
    "    x='Year', y='DeathRate', hue='AgeGroup', aspect=1.25)\n",
    "for ax in g.axes.flat:\n",
    "    ax.set(title='Deaths by Age Group (1910-1930)', ylabel='Deaths per 100,000', \n",
    "        xticks=[x for x in range(1910, 1931, 5)], \n",
    "        xlim=(1910,1930), ylim=(0,1750)),\n",
    "    ax.tick_params('x', labelrotation=30)"
   ]
  },
  {
   "cell_type": "code",
   "execution_count": null,
   "metadata": {},
   "outputs": [],
   "source": [
    "ax = sns.lineplot(data=mortality_data,\n",
    "     x='Year', y='DeathRate', hue='AgeGroup')\n",
    "ax.set(title='Deaths by Age Group (1910-1930)', \n",
    "      ylabel='Deaths per 100,000', \n",
    "      xticks=[x for x in range(1910,1931,2)], \n",
    "      xlim=(1910,1930), ylim=(0,1750))\n",
    "ax.tick_params('x', labelrotation=30)"
   ]
  },
  {
   "cell_type": "code",
   "execution_count": null,
   "metadata": {},
   "outputs": [],
   "source": [
    "sns.set_style('whitegrid')\n",
    "sns.relplot(data=mortality_data.query('Year >= 1910 and Year <= 1930'),\n",
    "    kind='line', x='Year', y='DeathRate', hue='AgeGroup', aspect=1.25)"
   ]
  },
  {
   "cell_type": "code",
   "execution_count": null,
   "metadata": {},
   "outputs": [],
   "source": [
    "sns.set_style('darkgrid')\n",
    "sns.relplot(data=mortality_data.query('Year >= 1910 and Year <= 1930'),\n",
    "    kind='line', x='Year', y='DeathRate', hue='AgeGroup', aspect=1.25)"
   ]
  },
  {
   "cell_type": "code",
   "execution_count": null,
   "metadata": {},
   "outputs": [],
   "source": [
    "sns.set_style('ticks')"
   ]
  },
  {
   "cell_type": "code",
   "execution_count": null,
   "metadata": {},
   "outputs": [],
   "source": [
    "g = sns.relplot(data=mortality_data.query('Year >= 1910 and Year <= 1930'),\n",
    "    kind='line', x='Year', y='DeathRate', hue='AgeGroup', legend=False,\n",
    "    col='AgeGroup', col_wrap=2, height=4)\n",
    "g.fig.suptitle('Deaths by Age Group (1910-1930)', y=1.025)\n",
    "g.set(ylabel='Deaths per 100,000', \n",
    "      xticks=[x for x in range(1910,1931,3)], \n",
    "      ylim=(0,1750))"
   ]
  },
  {
   "cell_type": "markdown",
   "metadata": {},
   "source": [
    "## Relational plots"
   ]
  },
  {
   "cell_type": "code",
   "execution_count": null,
   "metadata": {},
   "outputs": [],
   "source": [
    "sns.relplot(data=mortality_data, kind='line', x='Year', y='DeathRate', \n",
    "            hue='AgeGroup')"
   ]
  },
  {
   "cell_type": "code",
   "execution_count": null,
   "metadata": {},
   "outputs": [],
   "source": [
    "sns.relplot(data=mortality_data, kind='line', x='Year', y='DeathRate', ci='sd')"
   ]
  },
  {
   "cell_type": "code",
   "execution_count": null,
   "metadata": {},
   "outputs": [],
   "source": [
    "sns.relplot(data=mortality_data, kind='scatter', x='Year', y='DeathRate', \n",
    "            hue='AgeGroup')"
   ]
  },
  {
   "cell_type": "code",
   "execution_count": null,
   "metadata": {},
   "outputs": [],
   "source": [
    "import seaborn as sns\n",
    "\n",
    "# Create the scatter plot using scatterplot method\n",
    "fig, ax = plt.subplots(figsize=(10, 6))\n",
    "sns.scatterplot(data=mortality_data.query('Year >= 1910 and Year <= 1930'), \n",
    "    x='Year', y='DeathRate', hue='AgeGroup', size='DeathRate', sizes=(10,100), ax=ax)\n",
    "\n",
    "# Set the x-axis ticks and other properties\n",
    "ax.set(title='Deaths by Age Group (1910-1930)', ylabel='Deaths per 100,000', \n",
    "       xticks=[x for x in range(1910, 1931, 2)], xlim=(1910,1930), ylim=(0,1750))\n",
    "\n",
    "# Adjust the rotation of x-axis labels\n",
    "ax.tick_params('x', labelrotation=0)"
   ]
  },
  {
   "cell_type": "markdown",
   "metadata": {},
   "source": [
    "## Categorical plots"
   ]
  },
  {
   "cell_type": "code",
   "execution_count": null,
   "metadata": {},
   "outputs": [],
   "source": [
    "import seaborn as sns\n",
    "import matplotlib.pyplot as plt\n",
    "\n",
    "# Create the bar plot using barplot method\n",
    "plt.figure(figsize=(10, 6))\n",
    "sns.barplot(data=mortality_data.query('Year in (1950,2000)'), \n",
    "            x='Year', y='DeathRate', ci=75)\n",
    "\n",
    "# Set the plot title and labels (if needed)\n",
    "plt.title('Mortality Data by Year')\n",
    "plt.ylabel('Deaths per 100,000')\n",
    "plt.xlabel('Year')\n",
    "plt.show()"
   ]
  },
  {
   "cell_type": "code",
   "execution_count": null,
   "metadata": {},
   "outputs": [],
   "source": [
    "sns.catplot(data=mortality_data.query('Year in (1950,2000)'), \n",
    "            kind='bar', x='DeathRate', y='Year', hue='AgeGroup', orient='h')"
   ]
  },
  {
   "cell_type": "code",
   "execution_count": null,
   "metadata": {},
   "outputs": [],
   "source": [
    "sns.catplot(data=mortality_data.query('Year >= 1915 and Year <= 1920'), \n",
    "            kind='box', x='Year', y='DeathRate')"
   ]
  },
  {
   "cell_type": "code",
   "execution_count": null,
   "metadata": {},
   "outputs": [],
   "source": [
    "sns.catplot(data=mortality_data,\n",
    "            kind='box', x='DeathRate', y='AgeGroup', orient='h')"
   ]
  },
  {
   "cell_type": "markdown",
   "metadata": {},
   "source": [
    "## Distribution plots"
   ]
  },
  {
   "cell_type": "code",
   "execution_count": null,
   "metadata": {},
   "outputs": [],
   "source": [
    "sns.displot(data=mortality_data, kind='hist', x='DeathRate')"
   ]
  },
  {
   "cell_type": "code",
   "execution_count": null,
   "metadata": {},
   "outputs": [],
   "source": [
    "sns.displot(data=mortality_data, kind='hist', x='DeathRate', bins=16)"
   ]
  },
  {
   "cell_type": "code",
   "execution_count": null,
   "metadata": {},
   "outputs": [],
   "source": [
    "sns.displot(data=mortality_data, kind='kde', x='DeathRate')"
   ]
  },
  {
   "cell_type": "code",
   "execution_count": null,
   "metadata": {},
   "outputs": [],
   "source": [
    "sns.displot(data=mortality_data, kind='ecdf', x='DeathRate', hue='AgeGroup')"
   ]
  },
  {
   "cell_type": "code",
   "execution_count": null,
   "metadata": {},
   "outputs": [],
   "source": [
    "sns.displot(data=mortality_data, kind='hist', \n",
    "            x='DeathRate', kde=True, bins=8)"
   ]
  },
  {
   "cell_type": "code",
   "execution_count": null,
   "metadata": {},
   "outputs": [],
   "source": [
    "sns.displot(data=mortality_data, kind='kde', x='DeathRate', hue='AgeGroup', \n",
    "            fill=True, col='AgeGroup', col_wrap=2, height=3, legend=False)"
   ]
  },
  {
   "cell_type": "code",
   "execution_count": null,
   "metadata": {},
   "outputs": [],
   "source": [
    "# Create the bar plot for average death rates\n",
    "sns.barplot(data=mortality_data.query('Year in (1900, 1950, 2000)'), \n",
    "            x='AgeGroup', y='DeathRate', ci=None)\n",
    "\n",
    "# Modify the plot to show death rates for each year\n",
    "sns.catplot(data=mortality_data.query('Year in (1900, 1950, 2000)'), \n",
    "            kind='bar', x='AgeGroup', y='DeathRate', hue='Year', aspect=1.8)"
   ]
  },
  {
   "cell_type": "code",
   "execution_count": null,
   "metadata": {},
   "outputs": [],
   "source": [
    "# Create subplots for each year\n",
    "sns.catplot(data=mortality_data.query('Year in (1900, 1950, 2000)'), \n",
    "            kind='bar', x='AgeGroup', y='DeathRate', col='Year', col_wrap=3, aspect=1)"
   ]
  },
  {
   "cell_type": "code",
   "execution_count": null,
   "metadata": {},
   "outputs": [],
   "source": [
    "# Create a line plot for the 15-19 age group\n",
    "ax = sns.lineplot(data=mortality_data.query('AgeGroup == \"15-19\"'), \n",
    "                  x='Year', y='DeathRate')\n",
    "\n",
    "# Add title and modify y-axis label\n",
    "ax.set(title='Death Rates for Age Group 15-19', ylabel='Deaths per 100,000')"
   ]
  },
  {
   "cell_type": "code",
   "execution_count": null,
   "metadata": {},
   "outputs": [],
   "source": [
    "# Line plot for years 1950 to 2000\n",
    "sns.lineplot(data=mortality_data.query('Year >= 1950 and Year <= 2000'), \n",
    "             x='Year', y='DeathRate', hue='AgeGroup')"
   ]
  },
  {
   "cell_type": "code",
   "execution_count": null,
   "metadata": {},
   "outputs": [],
   "source": [
    "# Scatter plot for years 1950 to 2000\n",
    "sns.scatterplot(data=mortality_data.query('Year >= 1950 and Year <= 2000'), \n",
    "                x='Year', y='DeathRate', hue='AgeGroup', size='DeathRate', sizes=(10, 200))"
   ]
  },
  {
   "cell_type": "code",
   "execution_count": null,
   "metadata": {},
   "outputs": [],
   "source": [
    "# Create subplots for specified years\n",
    "g = sns.catplot(data=mortality_data.query('Year in (1900, 1925, 1950, 1975, 2000)'), \n",
    "                kind='bar', x='AgeGroup', y='DeathRate', col='Year', col_wrap=2, \n",
    "                height=4, aspect=1)\n",
    "\n",
    "# Set title and y-axis label\n",
    "g.fig.suptitle('Death Rates by Age Group for Specific Years', y=1.05)\n",
    "g.set(ylabel='Deaths per 100,000')\n",
    "\n",
    "# Save the plot to a file\n",
    "g.savefig('barCharts.png')"
   ]
  },
  {
   "cell_type": "markdown",
   "metadata": {},
   "source": [
    "## Other techniques for enhancing a plot"
   ]
  },
  {
   "cell_type": "code",
   "execution_count": null,
   "metadata": {},
   "outputs": [],
   "source": [
    "g = sns.relplot(\n",
    "    data=mortality_data, \n",
    "    kind='line', x='Year', y='DeathRate', hue='AgeGroup', aspect=1.25)\n",
    "for ax in g.axes.flat:\n",
    "    ax.set_title('Deaths by Age Group (2000-2016)')\n",
    "    ax.set_xlabel('')\n",
    "    ax.set_xticks([x for x in range(2000,2017,2)])\n",
    "    ax.set_xticklabels(['Year ' + str(x) for x in range(0,17,2)])\n",
    "    ax.tick_params('x', labelrotation=30)\n",
    "    ax.set_ylabel('Deaths per 100,000')\n",
    "    ax.set_xlim(2000,2016)\n",
    "    ax.set_ylim(0,80)"
   ]
  },
  {
   "cell_type": "code",
   "execution_count": null,
   "metadata": {},
   "outputs": [],
   "source": [
    "ax = sns.lineplot(data=mortality_data, \n",
    "                  x='Year', y='DeathRate', hue='AgeGroup')\n",
    "ax.set_title('Deaths by Age Group')\n",
    "ax.set_ylabel('Deaths per 100,000')\n",
    "ax.annotate(text='Spanish Flu Pandemic', \n",
    "    xy=(1918, 1650), xytext=(1925, 1900), \n",
    "    arrowprops=dict(facecolor='red', width=3, headwidth=12, headlength=6))"
   ]
  },
  {
   "cell_type": "code",
   "execution_count": null,
   "metadata": {},
   "outputs": [],
   "source": [
    "colors = ['black','red','orange','blue']\n",
    "sns.set_palette(sns.color_palette(colors))\n",
    "sns.relplot(data=mortality_data, kind='line',\n",
    "            x='Year', y='DeathRate', hue='AgeGroup')"
   ]
  },
  {
   "cell_type": "code",
   "execution_count": null,
   "metadata": {},
   "outputs": [],
   "source": [
    "sns.set_palette(sns.color_palette('tab10'))"
   ]
  },
  {
   "cell_type": "code",
   "execution_count": null,
   "metadata": {},
   "outputs": [],
   "source": [
    "g = sns.relplot(\n",
    "    data=mortality_data.query('Year >= 1910 and Year <= 1930'),\n",
    "    kind='line', x='Year', y='DeathRate', hue='AgeGroup', legend=False,\n",
    "    col='AgeGroup', col_wrap=2, height=3, aspect=1.2)\n",
    "g.fig.suptitle('Deaths by Age Group (1910-1930)', y=1.025)\n",
    "for ax in g.axes.flat:\n",
    "    ax.set_ylabel('Deaths per 100,000')\n",
    "    ax.set_xticks([x for x in range(1910, 1931, 2)])\n",
    "    ax.tick_params('x', labelrotation=45)   "
   ]
  },
  {
   "cell_type": "code",
   "execution_count": null,
   "metadata": {},
   "outputs": [],
   "source": [
    "g = sns.relplot(\n",
    "    data=mortality_data.query('Year >= 1910 and Year <= 1930'), \n",
    "    kind='line', x='Year', y='DeathRate', hue='AgeGroup', legend=False, \n",
    "    col='AgeGroup', col_wrap=2, height=3, aspect=1.2)\n",
    "g.fig.suptitle('Deaths by Age Group (1910-1930)', y=1.025)\n",
    "ageGroups = mortality_data['AgeGroup'].drop_duplicates().tolist()\n",
    "for index, ax in enumerate(g.axes.flat):\n",
    "    ax.set_title(ageGroups[index])\n",
    "    ax.set_ylabel('Deaths per 100,000')\n",
    "    ax.set_xticks([x for x in range(1910, 1931, 2)])\n",
    "    ax.tick_params('x', labelrotation=45)"
   ]
  },
  {
   "cell_type": "code",
   "execution_count": null,
   "metadata": {},
   "outputs": [],
   "source": [
    "# import a Matplotlib module and set the figure size\n",
    "import matplotlib.pyplot as plt\n",
    "fig, ax = plt.subplots(figsize=(10,7.5)) \n",
    "\n",
    "# create the line plot\n",
    "sns.lineplot(data=mortality_data, x='Year', y='DeathRate', hue='AgeGroup')\n",
    "\n",
    "# use the ax and fig objects to enhance and save the plot\n",
    "ax.set(title='Deaths by Age Group (1910-1930)', \n",
    "    ylabel='Deaths per 100,000', \n",
    "    xticks=[x for x in range(1910, 1931, 2)], \n",
    "    xlim=(1910,1930), ylim=(0,1750)),\n",
    "ax.tick_params('x', labelrotation=45)"
   ]
  },
  {
   "cell_type": "code",
   "execution_count": null,
   "metadata": {},
   "outputs": [],
   "source": []
  }
 ],
 "metadata": {
  "kernelspec": {
   "display_name": "anaconda-2024.02-py310",
   "language": "python",
   "name": "conda-env-anaconda-2024.02-py310-py"
  },
  "language_info": {
   "codemirror_mode": {
    "name": "ipython",
    "version": 3
   },
   "file_extension": ".py",
   "mimetype": "text/x-python",
   "name": "python",
   "nbconvert_exporter": "python",
   "pygments_lexer": "ipython3",
   "version": "3.10.14"
  },
  "nteract": {
   "version": "0.15.0"
  }
 },
 "nbformat": 4,
 "nbformat_minor": 4
}
